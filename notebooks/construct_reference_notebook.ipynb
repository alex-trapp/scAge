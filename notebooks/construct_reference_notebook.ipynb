{
 "cells": [
  {
   "cell_type": "markdown",
   "id": "c34bff59",
   "metadata": {},
   "source": [
    "# Create Reference Notebook"
   ]
  },
  {
   "cell_type": "markdown",
   "id": "87b22493",
   "metadata": {},
   "source": [
    "This notebook demonstrates how to create a reference dataset of linear associations between CpGs and age. <br><br> The function construct_reference() takes as input a methylation matrix, with samples as rows and CpGs as columns. The matrix must contain at least one additional column labeled \"Age\", but may contain other metadata columns as well. <br><br>An example matrix consisting of 29 C57BL/6J RRBS bulk liver samples from the [(Thompson et al, 2018)](https://www.aging-us.com/article/101590/text) study across 748,955 CpGs is available as a compressed HDF file in the `bulk` folder."
   ]
  },
  {
   "cell_type": "markdown",
   "id": "1d034a13",
   "metadata": {},
   "source": [
    "## Load required packages"
   ]
  },
  {
   "cell_type": "code",
   "execution_count": 1,
   "id": "aa0b8651",
   "metadata": {
    "ExecuteTime": {
     "end_time": "2021-06-13T18:42:45.624578Z",
     "start_time": "2021-06-13T18:42:45.042661Z"
    }
   },
   "outputs": [],
   "source": [
    "import numpy as np\n",
    "import pandas as pd\n",
    "import os\n",
    "import scipy.stats as ss\n",
    "import sys\n",
    "sys.path.append('..')\n",
    "import scAge\n",
    "import subprocess"
   ]
  },
  {
   "cell_type": "markdown",
   "id": "62cac8e3",
   "metadata": {},
   "source": [
    "## Load training DNAm matrix"
   ]
  },
  {
   "cell_type": "code",
   "execution_count": 2,
   "id": "16bfcd83",
   "metadata": {
    "ExecuteTime": {
     "end_time": "2021-06-13T18:43:26.956631Z",
     "start_time": "2021-06-13T18:43:24.048573Z"
    }
   },
   "outputs": [
    {
     "name": "stdout",
     "output_type": "stream",
     "text": [
      "Training matrix path: '../bulk/Liver_BL6_bulk_matrix.h5.gz'\n",
      "Decompressing training matrix...\n",
      "Training matrix decompressed!\n",
      "Reading in training matrix...\n",
      "\n",
      "Training matrix characteristics:\n",
      "Number of samples = 29\n",
      "Number of CpGs = 748,955\n",
      "Sample distribution:\n"
     ]
    },
    {
     "data": {
      "text/html": [
       "<div>\n",
       "<style scoped>\n",
       "    .dataframe tbody tr th:only-of-type {\n",
       "        vertical-align: middle;\n",
       "    }\n",
       "\n",
       "    .dataframe tbody tr th {\n",
       "        vertical-align: top;\n",
       "    }\n",
       "\n",
       "    .dataframe thead th {\n",
       "        text-align: right;\n",
       "    }\n",
       "</style>\n",
       "<table border=\"1\" class=\"dataframe\">\n",
       "  <thead>\n",
       "    <tr style=\"text-align: right;\">\n",
       "      <th></th>\n",
       "      <th></th>\n",
       "      <th></th>\n",
       "      <th>Count</th>\n",
       "    </tr>\n",
       "    <tr>\n",
       "      <th>Strain</th>\n",
       "      <th>Age</th>\n",
       "      <th>Gender</th>\n",
       "      <th></th>\n",
       "    </tr>\n",
       "  </thead>\n",
       "  <tbody>\n",
       "    <tr>\n",
       "      <th rowspan=\"6\" valign=\"top\">C57BL/6J</th>\n",
       "      <th rowspan=\"2\" valign=\"top\">2.0</th>\n",
       "      <th>Female</th>\n",
       "      <td>4</td>\n",
       "    </tr>\n",
       "    <tr>\n",
       "      <th>Male</th>\n",
       "      <td>5</td>\n",
       "    </tr>\n",
       "    <tr>\n",
       "      <th rowspan=\"2\" valign=\"top\">10.0</th>\n",
       "      <th>Female</th>\n",
       "      <td>5</td>\n",
       "    </tr>\n",
       "    <tr>\n",
       "      <th>Male</th>\n",
       "      <td>5</td>\n",
       "    </tr>\n",
       "    <tr>\n",
       "      <th rowspan=\"2\" valign=\"top\">20.0</th>\n",
       "      <th>Female</th>\n",
       "      <td>5</td>\n",
       "    </tr>\n",
       "    <tr>\n",
       "      <th>Male</th>\n",
       "      <td>5</td>\n",
       "    </tr>\n",
       "  </tbody>\n",
       "</table>\n",
       "</div>"
      ],
      "text/plain": [
       "                      Count\n",
       "Strain   Age  Gender       \n",
       "C57BL/6J 2.0  Female      4\n",
       "              Male        5\n",
       "         10.0 Female      5\n",
       "              Male        5\n",
       "         20.0 Female      5\n",
       "              Male        5"
      ]
     },
     "execution_count": 2,
     "metadata": {},
     "output_type": "execute_result"
    }
   ],
   "source": [
    "# designate full path to training matrix\n",
    "training_DNAm_matrix_path = \"../bulk/Liver_BL6_bulk_matrix.h5.gz\"\n",
    "print(\"Training matrix path: '%s'\" % training_DNAm_matrix_path)\n",
    "\n",
    "# unzip trainig matrix\n",
    "print(\"Decompressing training matrix...\")\n",
    "gunzip_matrix = subprocess.run(\"gzip -dk %s\" % training_DNAm_matrix_path,\n",
    "                               shell = True)\n",
    "print(\"Training matrix decompressed!\")\n",
    "\n",
    "# read in training matrix\n",
    "print(\"Reading in training matrix...\")\n",
    "training_DNAm_matrix = pd.read_hdf(training_DNAm_matrix_path[:-3])\n",
    "\n",
    "# check matrix dimensions and characteristics\n",
    "print(\"\\nTraining matrix characteristics:\")\n",
    "print(\"Number of samples = {:,}\".format(len(training_DNAm_matrix)))\n",
    "number_of_CpGs = len([x for x in training_DNAm_matrix.columns if \"chr\" in x])\n",
    "print(\"Number of CpGs = {:,}\".format(number_of_CpGs))\n",
    "print(\"Sample distribution:\")\n",
    "pd.DataFrame(training_DNAm_matrix.loc[:, [\"Strain\", \"Age\", \"Gender\"]].value_counts().sort_index(),\n",
    "             columns = [\"Count\"])"
   ]
  },
  {
   "cell_type": "markdown",
   "id": "040639dc",
   "metadata": {},
   "source": [
    "## Create reference dataset"
   ]
  },
  {
   "cell_type": "code",
   "execution_count": 3,
   "id": "3d708ab0",
   "metadata": {
    "ExecuteTime": {
     "end_time": "2021-06-13T18:44:34.581830Z",
     "start_time": "2021-06-13T18:43:31.927557Z"
    }
   },
   "outputs": [
    {
     "name": "stdout",
     "output_type": "stream",
     "text": [
      "Selected output path: '../train/Thompson_Liver_BL6.tsv'\n",
      "\n",
      "construct_reference function starting!\n",
      "\n",
      "----------------------------------------------------------\n",
      "Number of samples = 29\n",
      "Number of CpGs = 748,955\n",
      "----------------------------------------------------------\n",
      "\n",
      "\n",
      "----------------------------------------------------------\n",
      "Constructing list of arguments for parallel processing...\n"
     ]
    },
    {
     "data": {
      "application/vnd.jupyter.widget-view+json": {
       "model_id": "e96d56311bd640bdb9b5091b0a76f8b3",
       "version_major": 2,
       "version_minor": 0
      },
      "text/plain": [
       "Reference progress (1/2) :   0%|          | 0/748955 [00:00<?, ? CpGs/s]"
      ]
     },
     "metadata": {},
     "output_type": "display_data"
    },
    {
     "name": "stdout",
     "output_type": "stream",
     "text": [
      "Argument list constructed!\n",
      "----------------------------------------------------------\n",
      "\n",
      "\n",
      "----------------------------------------------------------\n",
      "Starting parallel processing with 30 cores...\n"
     ]
    },
    {
     "data": {
      "application/vnd.jupyter.widget-view+json": {
       "model_id": "4537e0b01a2b4ee8bdaaec50420b6563",
       "version_major": 2,
       "version_minor": 0
      },
      "text/plain": [
       "Reference progress (2/2) :   0%|          | 0/748955 [00:00<?, ? CpGs/s]"
      ]
     },
     "metadata": {},
     "output_type": "display_data"
    },
    {
     "name": "stdout",
     "output_type": "stream",
     "text": [
      "\n",
      "Reference model dataset written to '../train/Thompson_Liver_BL6.tsv'\n",
      "Report file generated at '../train/Thompson_Liver_BL6.report.txt'\n",
      "----------------------------------------------------------\n",
      "\n",
      "\n",
      "\n",
      "Time to run construct_reference: 57.763 seconds\n",
      "\n",
      "construct_reference run complete!\n",
      "Compressing reference file...\n",
      "Reference file compressed!\n"
     ]
    }
   ],
   "source": [
    "# designate output path\n",
    "output_path = \"../train/Thompson_Liver_BL6.tsv\"\n",
    "print(\"Selected output path: '%s'\\n\" % output_path)\n",
    "\n",
    "# run construct_reference\n",
    "# note that progress bars only display correctly \n",
    "# when the notebook runs, and not on a static notebook\n",
    "scAge.construct_reference(training_DNAm_matrix = training_DNAm_matrix,\n",
    "                          output_path = output_path,\n",
    "                          n_cores = 30,\n",
    "                          chunksize = 200)\n",
    "\n",
    "# gzip output .tsv file\n",
    "print(\"Compressing reference file...\")\n",
    "gzip_ref = subprocess.run(\"gzip %s\" % output_path, shell = True)\n",
    "print(\"Reference file compressed!\")"
   ]
  }
 ],
 "metadata": {
  "kernelspec": {
   "display_name": "Python 3",
   "language": "python",
   "name": "python3"
  },
  "language_info": {
   "codemirror_mode": {
    "name": "ipython",
    "version": 3
   },
   "file_extension": ".py",
   "mimetype": "text/x-python",
   "name": "python",
   "nbconvert_exporter": "python",
   "pygments_lexer": "ipython3",
   "version": "3.9.2"
  }
 },
 "nbformat": 4,
 "nbformat_minor": 5
}
